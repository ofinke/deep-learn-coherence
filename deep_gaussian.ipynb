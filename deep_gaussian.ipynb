{
 "cells": [
  {
   "cell_type": "markdown",
   "source": [
    "# Deep Learning Gaussian Function\r\n",
    "\r\n",
    "This notebook aims to retrain VGG16 neural network to recognise sigma of 1D gaussian function with semi-random gaussian noise"
   ],
   "metadata": {}
  },
  {
   "cell_type": "code",
   "execution_count": 6,
   "source": [
    "import numpy as np\r\n",
    "import pandas as pd\r\n",
    "import matplotlib.pyplot as plt\r\n",
    "import tensorflow.keras as keras\r\n",
    "from tensorflow.keras.applications.vgg16 import VGG16\r\n",
    "from gauss import gauss\r\n",
    "from IPython.display import display"
   ],
   "outputs": [],
   "metadata": {}
  },
  {
   "cell_type": "markdown",
   "source": [
    "## Create training data\r\n",
    "* 1D gaussian function\r\n",
    "* Different sigma\r\n",
    "* each function is modulated with random noise"
   ],
   "metadata": {}
  },
  {
   "cell_type": "code",
   "execution_count": 18,
   "source": [
    "# define x vector\r\n",
    "length = 250\r\n",
    "x = np.linspace(-10,10,length)\r\n",
    "# define sigma range\r\n",
    "unique = 50\r\n",
    "repeats = 100\r\n",
    "param = np.linspace(0.5,3,unique)\r\n",
    "if repeats != 0:\r\n",
    "    param = np.repeat(param, repeats)\r\n",
    "param = pd.DataFrame(data={\"sigma\": param})\r\n",
    "\r\n",
    "# create numpy array with data\r\n",
    "data = np.zeros((param.shape[0], x.shape[0]))\r\n",
    "for i in param.index:\r\n",
    "    data[i,:] = gauss(x, param.loc[0, \"sigma\"], noise=True)\r\n",
    "\r\n",
    "# randomly mix parameters and use mixed index vector as a mask to get corresponding data\r\n",
    "param = param.reindex(np.random.permutation(param.index))\r\n",
    "\r\n",
    "print(\"Testing data has \" + str(unique) + \" unique parameters.\")\r\n",
    "print(\"Each function is repeated \" + str(repeats) + \" times, each time modulated with random noise\")\r\n",
    "print(\"Final data vector has \" + str(data.shape) + \" shape\")"
   ],
   "outputs": [
    {
     "output_type": "stream",
     "name": "stdout",
     "text": [
      "Testing data has 50 unique parameters.\n",
      "Each function is repeated 0 times, each time modulated with random noise\n",
      "Final data vector has (50, 250) shape\n"
     ]
    }
   ],
   "metadata": {}
  },
  {
   "cell_type": "markdown",
   "source": [
    "## Initialize the model\r\n",
    "* VGG16 neural networks with weights calculated based on imagenet network"
   ],
   "metadata": {}
  },
  {
   "cell_type": "code",
   "execution_count": 17,
   "source": [
    "# load original VGG16 model with weights based in imagenet\r\n",
    "model = VGG16(weights=\"imagenet\", include_top=False, input_tensor=keras.Input(shape=(length, 100, 3)))\r\n",
    "model.summary()"
   ],
   "outputs": [
    {
     "output_type": "stream",
     "name": "stdout",
     "text": [
      "Model: \"vgg16\"\n",
      "_________________________________________________________________\n",
      "Layer (type)                 Output Shape              Param #   \n",
      "=================================================================\n",
      "input_12 (InputLayer)        [(None, 250, 100, 3)]     0         \n",
      "_________________________________________________________________\n",
      "block1_conv1 (Conv2D)        (None, 250, 100, 64)      1792      \n",
      "_________________________________________________________________\n",
      "block1_conv2 (Conv2D)        (None, 250, 100, 64)      36928     \n",
      "_________________________________________________________________\n",
      "block1_pool (MaxPooling2D)   (None, 125, 50, 64)       0         \n",
      "_________________________________________________________________\n",
      "block2_conv1 (Conv2D)        (None, 125, 50, 128)      73856     \n",
      "_________________________________________________________________\n",
      "block2_conv2 (Conv2D)        (None, 125, 50, 128)      147584    \n",
      "_________________________________________________________________\n",
      "block2_pool (MaxPooling2D)   (None, 62, 25, 128)       0         \n",
      "_________________________________________________________________\n",
      "block3_conv1 (Conv2D)        (None, 62, 25, 256)       295168    \n",
      "_________________________________________________________________\n",
      "block3_conv2 (Conv2D)        (None, 62, 25, 256)       590080    \n",
      "_________________________________________________________________\n",
      "block3_conv3 (Conv2D)        (None, 62, 25, 256)       590080    \n",
      "_________________________________________________________________\n",
      "block3_pool (MaxPooling2D)   (None, 31, 12, 256)       0         \n",
      "_________________________________________________________________\n",
      "block4_conv1 (Conv2D)        (None, 31, 12, 512)       1180160   \n",
      "_________________________________________________________________\n",
      "block4_conv2 (Conv2D)        (None, 31, 12, 512)       2359808   \n",
      "_________________________________________________________________\n",
      "block4_conv3 (Conv2D)        (None, 31, 12, 512)       2359808   \n",
      "_________________________________________________________________\n",
      "block4_pool (MaxPooling2D)   (None, 15, 6, 512)        0         \n",
      "_________________________________________________________________\n",
      "block5_conv1 (Conv2D)        (None, 15, 6, 512)        2359808   \n",
      "_________________________________________________________________\n",
      "block5_conv2 (Conv2D)        (None, 15, 6, 512)        2359808   \n",
      "_________________________________________________________________\n",
      "block5_conv3 (Conv2D)        (None, 15, 6, 512)        2359808   \n",
      "_________________________________________________________________\n",
      "block5_pool (MaxPooling2D)   (None, 7, 3, 512)         0         \n",
      "=================================================================\n",
      "Total params: 14,714,688\n",
      "Trainable params: 14,714,688\n",
      "Non-trainable params: 0\n",
      "_________________________________________________________________\n"
     ]
    }
   ],
   "metadata": {}
  }
 ],
 "metadata": {
  "orig_nbformat": 4,
  "language_info": {
   "name": "python",
   "version": "3.6.13",
   "mimetype": "text/x-python",
   "codemirror_mode": {
    "name": "ipython",
    "version": 3
   },
   "pygments_lexer": "ipython3",
   "nbconvert_exporter": "python",
   "file_extension": ".py"
  },
  "kernelspec": {
   "name": "python3",
   "display_name": "Python 3.6.13 64-bit ('matlab_env': conda)"
  },
  "interpreter": {
   "hash": "49fa3baea1e085733ea68167034f3b7630ef2d9a978b15689306e87087071167"
  }
 },
 "nbformat": 4,
 "nbformat_minor": 2
}